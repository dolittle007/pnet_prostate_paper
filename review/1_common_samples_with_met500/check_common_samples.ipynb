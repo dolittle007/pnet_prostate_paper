{
 "metadata": {
  "language_info": {
   "codemirror_mode": {
    "name": "ipython",
    "version": 3
   },
   "file_extension": ".py",
   "mimetype": "text/x-python",
   "name": "python",
   "nbconvert_exporter": "python",
   "pygments_lexer": "ipython3",
   "version": "2.7.13-final"
  },
  "orig_nbformat": 2,
  "kernelspec": {
   "name": "python2",
   "display_name": "Python 2",
   "language": "python"
  }
 },
 "nbformat": 4,
 "nbformat_minor": 2,
 "cells": [
  {
   "cell_type": "code",
   "execution_count": 12,
   "metadata": {},
   "outputs": [],
   "source": [
    "import pandas as pd\n",
    "from os.path import join"
   ]
  },
  {
   "cell_type": "code",
   "execution_count": 3,
   "metadata": {},
   "outputs": [],
   "source": [
    " prostate_samples = ['MO_1008', 'MO_1012', 'MO_1013', 'MO_1014', 'MO_1015', 'MO_1020', 'MO_1040', 'MO_1066', 'MO_1074', 'MO_1084',\n",
    "     'MO_1093', 'MO_1094', 'MO_1095', 'MO_1096', 'MO_1112', 'MO_1114', 'MO_1118', 'MO_1124', 'MO_1128', 'MO_1130',\n",
    "     'MO_1132', 'MO_1139', 'MO_1161', 'MO_1162', 'MO_1176', 'MO_1179', 'MO_1184', 'MO_1192', 'MO_1200', 'MO_1201',\n",
    "     'MO_1202', 'MO_1214', 'MO_1215', 'MO_1219', 'MO_1221', 'MO_1232', 'MO_1240', 'MO_1241', 'MO_1244', 'MO_1249',\n",
    "     'MO_1260', 'MO_1262', 'MO_1263', 'MO_1277', 'MO_1307', 'MO_1316', 'MO_1336', 'MO_1337', 'MO_1339', 'MO_1410',\n",
    "     'MO_1420', 'MO_1421', 'MO_1437', 'MO_1443', 'MO_1446', 'MO_1447', 'MO_1460', 'MO_1469', 'MO_1472', 'MO_1473',\n",
    "     'MO_1482', 'MO_1490', 'MO_1492', 'MO_1496', 'MO_1499', 'MO_1510', 'MO_1511', 'MO_1514', 'MO_1517', 'MO_1541',\n",
    "     'MO_1543', 'MO_1553', 'MO_1556', 'TP_2001', 'TP_2009', 'TP_2010', 'TP_2020', 'TP_2032', 'TP_2034', 'TP_2037',\n",
    "     'TP_2043', 'TP_2054', 'TP_2060', 'TP_2061', 'TP_2064', 'TP_2069', 'TP_2077', 'TP_2078', 'TP_2079', 'TP_2080',\n",
    "     'TP_2081', 'TP_2090', 'TP_2093', 'TP_2096', 'TP_2156']"
   ]
  },
  {
   "cell_type": "code",
   "execution_count": 4,
   "metadata": {},
   "outputs": [
    {
     "output_type": "execute_result",
     "data": {
      "text/plain": [
       "95"
      ]
     },
     "metadata": {},
     "execution_count": 4
    }
   ],
   "source": [
    "len(prostate_samples)"
   ]
  },
  {
   "cell_type": "code",
   "execution_count": 5,
   "metadata": {},
   "outputs": [],
   "source": [
    "common_samples = ['MO_1008',\n",
    "                                         'MO_1012',\n",
    "                                         'MO_1013',\n",
    "                                         'MO_1014',\n",
    "                                         'MO_1015',\n",
    "                                         'MO_1020',\n",
    "                                         'MO_1040',\n",
    "                                         'MO_1074',\n",
    "                                         'MO_1084',\n",
    "                                         'MO_1094',\n",
    "                                         'MO_1095',\n",
    "                                         'MO_1096',\n",
    "                                         'MO_1114',\n",
    "                                         'MO_1118',\n",
    "                                         'MO_1124',\n",
    "                                         'MO_1128',\n",
    "                                         'MO_1130',\n",
    "                                         'MO_1132',\n",
    "                                         'MO_1139',\n",
    "                                         'MO_1161',\n",
    "                                         'MO_1162',\n",
    "                                         'MO_1176',\n",
    "                                         'MO_1179',\n",
    "                                         'MO_1184',\n",
    "                                         'MO_1192',\n",
    "                                         'MO_1202',\n",
    "                                         'MO_1215',\n",
    "                                         'MO_1219',\n",
    "                                         'MO_1232',\n",
    "                                         'MO_1241',\n",
    "                                         'MO_1244',\n",
    "                                         'MO_1249',\n",
    "                                         'MO_1262',\n",
    "                                         'MO_1277',\n",
    "                                         'MO_1316',\n",
    "                                         'MO_1337',\n",
    "                                         'MO_1339',\n",
    "                                         'MO_1410',\n",
    "                                         'MO_1421',\n",
    "                                         'MO_1447',\n",
    "                                         'MO_1460',\n",
    "                                         'MO_1473',\n",
    "                                         'TP_2001',\n",
    "                                         'TP_2010',\n",
    "                                         'TP_2020',\n",
    "                                         'TP_2032',\n",
    "                                         'TP_2034',\n",
    "                                         'TP_2054',\n",
    "                                         'TP_2060',\n",
    "                                         'TP_2061',\n",
    "                                         'TP_2064',\n",
    "                                         'TP_2069',\n",
    "                                         'TP_2077',\n",
    "                                         'TP_2078',\n",
    "                                         'TP_2079']\n",
    "                                         "
   ]
  },
  {
   "cell_type": "code",
   "execution_count": 6,
   "metadata": {},
   "outputs": [
    {
     "output_type": "execute_result",
     "data": {
      "text/plain": [
       "55"
      ]
     },
     "metadata": {},
     "execution_count": 6
    }
   ],
   "source": [
    "len(common_samples)"
   ]
  },
  {
   "cell_type": "code",
   "execution_count": 7,
   "metadata": {},
   "outputs": [],
   "source": [
    "met500_samples = set(prostate_samples).difference(common_samples)"
   ]
  },
  {
   "cell_type": "code",
   "execution_count": 10,
   "metadata": {},
   "outputs": [
    {
     "output_type": "execute_result",
     "data": {
      "text/plain": [
       "40"
      ]
     },
     "metadata": {},
     "execution_count": 10
    }
   ],
   "source": [
    "len(met500_samples)"
   ]
  },
  {
   "cell_type": "code",
   "execution_count": 13,
   "metadata": {},
   "outputs": [],
   "source": [
    "validation_data_dir ='/Users/haithamelmarakeby/PycharmProjects/pnet_prostate_paper/data/prostate_paper/external_validation/'\n"
   ]
  },
  {
   "cell_type": "code",
   "execution_count": 14,
   "metadata": {},
   "outputs": [],
   "source": [
    "valid_cnv = pd.read_csv(join(validation_data_dir,'Met500/Met500_cnv.txt'), index_col=0, sep='\\t')"
   ]
  },
  {
   "cell_type": "code",
   "execution_count": 15,
   "metadata": {},
   "outputs": [
    {
     "output_type": "execute_result",
     "data": {
      "text/plain": [
       "(19045, 500)"
      ]
     },
     "metadata": {},
     "execution_count": 15
    }
   ],
   "source": [
    "valid_cnv.shape"
   ]
  },
  {
   "cell_type": "code",
   "execution_count": 16,
   "metadata": {},
   "outputs": [
    {
     "output_type": "execute_result",
     "data": {
      "text/html": "<div>\n<style scoped>\n    .dataframe tbody tr th:only-of-type {\n        vertical-align: middle;\n    }\n\n    .dataframe tbody tr th {\n        vertical-align: top;\n    }\n\n    .dataframe thead th {\n        text-align: right;\n    }\n</style>\n<table border=\"1\" class=\"dataframe\">\n  <thead>\n    <tr style=\"text-align: right;\">\n      <th></th>\n      <th>ES_5001</th>\n      <th>ES_5004</th>\n      <th>ES_5005</th>\n      <th>MO_1001</th>\n      <th>MO_1002</th>\n      <th>MO_1005</th>\n      <th>MO_1007</th>\n      <th>MO_1008</th>\n      <th>MO_1011</th>\n      <th>MO_1012</th>\n      <th>...</th>\n      <th>TP_2109</th>\n      <th>TP_2118</th>\n      <th>TP_2119</th>\n      <th>TP_2120</th>\n      <th>TP_2122</th>\n      <th>TP_2123</th>\n      <th>TP_2130</th>\n      <th>TP_2131</th>\n      <th>TP_2141</th>\n      <th>TP_2156</th>\n    </tr>\n    <tr>\n      <th>gene</th>\n      <th></th>\n      <th></th>\n      <th></th>\n      <th></th>\n      <th></th>\n      <th></th>\n      <th></th>\n      <th></th>\n      <th></th>\n      <th></th>\n      <th></th>\n      <th></th>\n      <th></th>\n      <th></th>\n      <th></th>\n      <th></th>\n      <th></th>\n      <th></th>\n      <th></th>\n      <th></th>\n      <th></th>\n    </tr>\n  </thead>\n  <tbody>\n    <tr>\n      <th>UBE2Q1</th>\n      <td>1.0</td>\n      <td>1.0</td>\n      <td>1.0</td>\n      <td>1.0</td>\n      <td>1.0</td>\n      <td>0.0</td>\n      <td>0.0</td>\n      <td>0.0</td>\n      <td>0.0</td>\n      <td>1.0</td>\n      <td>...</td>\n      <td>1.0</td>\n      <td>1.0</td>\n      <td>1.0</td>\n      <td>1.0</td>\n      <td>1.0</td>\n      <td>0.0</td>\n      <td>2.0</td>\n      <td>1.0</td>\n      <td>0.0</td>\n      <td>1.0</td>\n    </tr>\n    <tr>\n      <th>RNF14</th>\n      <td>0.0</td>\n      <td>1.0</td>\n      <td>0.0</td>\n      <td>1.0</td>\n      <td>1.0</td>\n      <td>0.0</td>\n      <td>1.0</td>\n      <td>0.0</td>\n      <td>0.0</td>\n      <td>1.0</td>\n      <td>...</td>\n      <td>0.0</td>\n      <td>0.0</td>\n      <td>1.0</td>\n      <td>1.0</td>\n      <td>1.0</td>\n      <td>0.0</td>\n      <td>1.0</td>\n      <td>0.0</td>\n      <td>0.0</td>\n      <td>1.0</td>\n    </tr>\n    <tr>\n      <th>UBE2Q2</th>\n      <td>0.0</td>\n      <td>0.0</td>\n      <td>0.0</td>\n      <td>1.0</td>\n      <td>1.0</td>\n      <td>0.0</td>\n      <td>1.0</td>\n      <td>0.0</td>\n      <td>-1.0</td>\n      <td>1.0</td>\n      <td>...</td>\n      <td>0.0</td>\n      <td>0.0</td>\n      <td>1.0</td>\n      <td>0.0</td>\n      <td>1.0</td>\n      <td>1.0</td>\n      <td>1.0</td>\n      <td>0.0</td>\n      <td>0.0</td>\n      <td>1.0</td>\n    </tr>\n    <tr>\n      <th>RNF10</th>\n      <td>0.0</td>\n      <td>0.0</td>\n      <td>0.0</td>\n      <td>1.0</td>\n      <td>0.0</td>\n      <td>0.0</td>\n      <td>0.0</td>\n      <td>0.0</td>\n      <td>-1.0</td>\n      <td>1.0</td>\n      <td>...</td>\n      <td>-1.0</td>\n      <td>0.0</td>\n      <td>0.0</td>\n      <td>0.0</td>\n      <td>1.0</td>\n      <td>0.0</td>\n      <td>1.0</td>\n      <td>0.0</td>\n      <td>1.0</td>\n      <td>1.0</td>\n    </tr>\n    <tr>\n      <th>RNF11</th>\n      <td>0.0</td>\n      <td>0.0</td>\n      <td>1.0</td>\n      <td>1.0</td>\n      <td>0.0</td>\n      <td>0.0</td>\n      <td>0.0</td>\n      <td>0.0</td>\n      <td>0.0</td>\n      <td>1.0</td>\n      <td>...</td>\n      <td>0.0</td>\n      <td>0.0</td>\n      <td>0.0</td>\n      <td>1.0</td>\n      <td>1.0</td>\n      <td>0.0</td>\n      <td>1.0</td>\n      <td>0.0</td>\n      <td>0.0</td>\n      <td>1.0</td>\n    </tr>\n  </tbody>\n</table>\n<p>5 rows × 500 columns</p>\n</div>",
      "text/plain": [
       "        ES_5001  ES_5004  ES_5005  MO_1001  MO_1002  MO_1005  MO_1007  \\\n",
       "gene                                                                    \n",
       "UBE2Q1      1.0      1.0      1.0      1.0      1.0      0.0      0.0   \n",
       "RNF14       0.0      1.0      0.0      1.0      1.0      0.0      1.0   \n",
       "UBE2Q2      0.0      0.0      0.0      1.0      1.0      0.0      1.0   \n",
       "RNF10       0.0      0.0      0.0      1.0      0.0      0.0      0.0   \n",
       "RNF11       0.0      0.0      1.0      1.0      0.0      0.0      0.0   \n",
       "\n",
       "        MO_1008  MO_1011  MO_1012  ...  TP_2109  TP_2118  TP_2119  TP_2120  \\\n",
       "gene                               ...                                       \n",
       "UBE2Q1      0.0      0.0      1.0  ...      1.0      1.0      1.0      1.0   \n",
       "RNF14       0.0      0.0      1.0  ...      0.0      0.0      1.0      1.0   \n",
       "UBE2Q2      0.0     -1.0      1.0  ...      0.0      0.0      1.0      0.0   \n",
       "RNF10       0.0     -1.0      1.0  ...     -1.0      0.0      0.0      0.0   \n",
       "RNF11       0.0      0.0      1.0  ...      0.0      0.0      0.0      1.0   \n",
       "\n",
       "        TP_2122  TP_2123  TP_2130  TP_2131  TP_2141  TP_2156  \n",
       "gene                                                          \n",
       "UBE2Q1      1.0      0.0      2.0      1.0      0.0      1.0  \n",
       "RNF14       1.0      0.0      1.0      0.0      0.0      1.0  \n",
       "UBE2Q2      1.0      1.0      1.0      0.0      0.0      1.0  \n",
       "RNF10       1.0      0.0      1.0      0.0      1.0      1.0  \n",
       "RNF11       1.0      0.0      1.0      0.0      0.0      1.0  \n",
       "\n",
       "[5 rows x 500 columns]"
      ]
     },
     "metadata": {},
     "execution_count": 16
    }
   ],
   "source": [
    "valid_cnv.head()"
   ]
  },
  {
   "cell_type": "code",
   "execution_count": null,
   "metadata": {},
   "outputs": [],
   "source": []
  }
 ]
}